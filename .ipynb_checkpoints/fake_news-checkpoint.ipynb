{
 "cells": [
  {
   "cell_type": "code",
   "execution_count": 1,
   "id": "3ba46342",
   "metadata": {},
   "outputs": [],
   "source": [
    "import numpy as np\n",
    "import pandas as pd\n",
    "import itertools\n",
    "from sklearn.model_selection import train_test_split\n",
    "from sklearn.feature_extraction.text import TfidfVectorizer\n",
    "from sklearn.linear_model import PassiveAggressiveClassifier\n",
    "from sklearn.metrics import accuracy_score, confusion_matrix"
   ]
  },
  {
   "cell_type": "code",
   "execution_count": 2,
   "id": "0f881c0e",
   "metadata": {},
   "outputs": [
    {
     "data": {
      "text/html": [
       "<div>\n",
       "<style scoped>\n",
       "    .dataframe tbody tr th:only-of-type {\n",
       "        vertical-align: middle;\n",
       "    }\n",
       "\n",
       "    .dataframe tbody tr th {\n",
       "        vertical-align: top;\n",
       "    }\n",
       "\n",
       "    .dataframe thead th {\n",
       "        text-align: right;\n",
       "    }\n",
       "</style>\n",
       "<table border=\"1\" class=\"dataframe\">\n",
       "  <thead>\n",
       "    <tr style=\"text-align: right;\">\n",
       "      <th></th>\n",
       "      <th>Unnamed: 0</th>\n",
       "      <th>title</th>\n",
       "      <th>text</th>\n",
       "      <th>label</th>\n",
       "    </tr>\n",
       "  </thead>\n",
       "  <tbody>\n",
       "    <tr>\n",
       "      <th>0</th>\n",
       "      <td>8476</td>\n",
       "      <td>You Can Smell Hillary’s Fear</td>\n",
       "      <td>Daniel Greenfield, a Shillman Journalism Fello...</td>\n",
       "      <td>FAKE</td>\n",
       "    </tr>\n",
       "    <tr>\n",
       "      <th>1</th>\n",
       "      <td>10294</td>\n",
       "      <td>Watch The Exact Moment Paul Ryan Committed Pol...</td>\n",
       "      <td>Google Pinterest Digg Linkedin Reddit Stumbleu...</td>\n",
       "      <td>FAKE</td>\n",
       "    </tr>\n",
       "    <tr>\n",
       "      <th>2</th>\n",
       "      <td>3608</td>\n",
       "      <td>Kerry to go to Paris in gesture of sympathy</td>\n",
       "      <td>U.S. Secretary of State John F. Kerry said Mon...</td>\n",
       "      <td>REAL</td>\n",
       "    </tr>\n",
       "    <tr>\n",
       "      <th>3</th>\n",
       "      <td>10142</td>\n",
       "      <td>Bernie supporters on Twitter erupt in anger ag...</td>\n",
       "      <td>— Kaydee King (@KaydeeKing) November 9, 2016 T...</td>\n",
       "      <td>FAKE</td>\n",
       "    </tr>\n",
       "    <tr>\n",
       "      <th>4</th>\n",
       "      <td>875</td>\n",
       "      <td>The Battle of New York: Why This Primary Matters</td>\n",
       "      <td>It's primary day in New York and front-runners...</td>\n",
       "      <td>REAL</td>\n",
       "    </tr>\n",
       "    <tr>\n",
       "      <th>5</th>\n",
       "      <td>6903</td>\n",
       "      <td>Tehran, USA</td>\n",
       "      <td>\\nI’m not an immigrant, but my grandparents ...</td>\n",
       "      <td>FAKE</td>\n",
       "    </tr>\n",
       "    <tr>\n",
       "      <th>6</th>\n",
       "      <td>7341</td>\n",
       "      <td>Girl Horrified At What She Watches Boyfriend D...</td>\n",
       "      <td>Share This Baylee Luciani (left), Screenshot o...</td>\n",
       "      <td>FAKE</td>\n",
       "    </tr>\n",
       "    <tr>\n",
       "      <th>7</th>\n",
       "      <td>95</td>\n",
       "      <td>‘Britain’s Schindler’ Dies at 106</td>\n",
       "      <td>A Czech stockbroker who saved more than 650 Je...</td>\n",
       "      <td>REAL</td>\n",
       "    </tr>\n",
       "    <tr>\n",
       "      <th>8</th>\n",
       "      <td>4869</td>\n",
       "      <td>Fact check: Trump and Clinton at the 'commande...</td>\n",
       "      <td>Hillary Clinton and Donald Trump made some ina...</td>\n",
       "      <td>REAL</td>\n",
       "    </tr>\n",
       "    <tr>\n",
       "      <th>9</th>\n",
       "      <td>2909</td>\n",
       "      <td>Iran reportedly makes new push for uranium con...</td>\n",
       "      <td>Iranian negotiators reportedly have made a las...</td>\n",
       "      <td>REAL</td>\n",
       "    </tr>\n",
       "  </tbody>\n",
       "</table>\n",
       "</div>"
      ],
      "text/plain": [
       "   Unnamed: 0                                              title  \\\n",
       "0        8476                       You Can Smell Hillary’s Fear   \n",
       "1       10294  Watch The Exact Moment Paul Ryan Committed Pol...   \n",
       "2        3608        Kerry to go to Paris in gesture of sympathy   \n",
       "3       10142  Bernie supporters on Twitter erupt in anger ag...   \n",
       "4         875   The Battle of New York: Why This Primary Matters   \n",
       "5        6903                                        Tehran, USA   \n",
       "6        7341  Girl Horrified At What She Watches Boyfriend D...   \n",
       "7          95                  ‘Britain’s Schindler’ Dies at 106   \n",
       "8        4869  Fact check: Trump and Clinton at the 'commande...   \n",
       "9        2909  Iran reportedly makes new push for uranium con...   \n",
       "\n",
       "                                                text label  \n",
       "0  Daniel Greenfield, a Shillman Journalism Fello...  FAKE  \n",
       "1  Google Pinterest Digg Linkedin Reddit Stumbleu...  FAKE  \n",
       "2  U.S. Secretary of State John F. Kerry said Mon...  REAL  \n",
       "3  — Kaydee King (@KaydeeKing) November 9, 2016 T...  FAKE  \n",
       "4  It's primary day in New York and front-runners...  REAL  \n",
       "5    \\nI’m not an immigrant, but my grandparents ...  FAKE  \n",
       "6  Share This Baylee Luciani (left), Screenshot o...  FAKE  \n",
       "7  A Czech stockbroker who saved more than 650 Je...  REAL  \n",
       "8  Hillary Clinton and Donald Trump made some ina...  REAL  \n",
       "9  Iranian negotiators reportedly have made a las...  REAL  "
      ]
     },
     "execution_count": 2,
     "metadata": {},
     "output_type": "execute_result"
    }
   ],
   "source": [
    "#Read the data\n",
    "df= pd.read_csv('news.csv')\n",
    "\n",
    "df.head(10)"
   ]
  },
  {
   "cell_type": "code",
   "execution_count": 3,
   "id": "7c20fc97",
   "metadata": {},
   "outputs": [
    {
     "name": "stdout",
     "output_type": "stream",
     "text": [
      "<class 'pandas.core.frame.DataFrame'>\n",
      "RangeIndex: 6335 entries, 0 to 6334\n",
      "Data columns (total 4 columns):\n",
      " #   Column      Non-Null Count  Dtype \n",
      "---  ------      --------------  ----- \n",
      " 0   Unnamed: 0  6335 non-null   int64 \n",
      " 1   title       6335 non-null   object\n",
      " 2   text        6335 non-null   object\n",
      " 3   label       6335 non-null   object\n",
      "dtypes: int64(1), object(3)\n",
      "memory usage: 198.1+ KB\n"
     ]
    }
   ],
   "source": [
    "df.info()"
   ]
  },
  {
   "cell_type": "code",
   "execution_count": 4,
   "id": "4f51b22a",
   "metadata": {},
   "outputs": [
    {
     "data": {
      "text/plain": [
       "0    FAKE\n",
       "1    FAKE\n",
       "2    REAL\n",
       "3    FAKE\n",
       "4    REAL\n",
       "5    FAKE\n",
       "6    FAKE\n",
       "7    REAL\n",
       "8    REAL\n",
       "9    REAL\n",
       "Name: label, dtype: object"
      ]
     },
     "execution_count": 4,
     "metadata": {},
     "output_type": "execute_result"
    }
   ],
   "source": [
    "#Get the labels\n",
    "labels= df.label\n",
    "labels.head(10)"
   ]
  },
  {
   "cell_type": "code",
   "execution_count": 5,
   "id": "f66149c0",
   "metadata": {},
   "outputs": [],
   "source": [
    "#Split the dataset\n",
    "x_train, x_test, y_train, y_test = train_test_split(df['text'], labels, test_size=0.3, random_state=42)"
   ]
  },
  {
   "cell_type": "code",
   "execution_count": 6,
   "id": "3ba694db",
   "metadata": {},
   "outputs": [],
   "source": [
    "#Initialize a TfidfVectorizer\n",
    "\n",
    "tfidf_vectorizer=TfidfVectorizer(stop_words='english', max_df=0.7)\n",
    "\n",
    "#Fit and transform train set, transform test set\n",
    "\n",
    "tfidf_train = tfidf_vectorizer.fit_transform(x_train) \n",
    "tfidf_test = tfidf_vectorizer.transform(x_test)"
   ]
  },
  {
   "cell_type": "code",
   "execution_count": 7,
   "id": "356d4818",
   "metadata": {},
   "outputs": [
    {
     "data": {
      "text/plain": [
       "PassiveAggressiveClassifier(C=1.0, average=False, class_weight=None,\n",
       "                            early_stopping=False, fit_intercept=True,\n",
       "                            loss='hinge', max_iter=50, n_iter_no_change=5,\n",
       "                            n_jobs=None, random_state=None, shuffle=True,\n",
       "                            tol=0.001, validation_fraction=0.1, verbose=0,\n",
       "                            warm_start=False)"
      ]
     },
     "execution_count": 7,
     "metadata": {},
     "output_type": "execute_result"
    }
   ],
   "source": [
    "#Initialize a PassiveAggressiveClassifier\n",
    "\n",
    "pac = PassiveAggressiveClassifier(max_iter=50, shuffle=True)\n",
    "\n",
    "pac.fit(tfidf_train,y_train)"
   ]
  },
  {
   "cell_type": "code",
   "execution_count": 8,
   "id": "6f599e38",
   "metadata": {},
   "outputs": [
    {
     "data": {
      "text/plain": [
       "array(['FAKE', 'FAKE', 'FAKE', ..., 'FAKE', 'REAL', 'REAL'], dtype='<U4')"
      ]
     },
     "execution_count": 8,
     "metadata": {},
     "output_type": "execute_result"
    }
   ],
   "source": [
    "#Predict on the test set and calculate accuracy\n",
    "\n",
    "y_pred = pac.predict(tfidf_test)\n",
    "y_pred"
   ]
  },
  {
   "cell_type": "code",
   "execution_count": 9,
   "id": "4310adf4",
   "metadata": {},
   "outputs": [
    {
     "name": "stdout",
     "output_type": "stream",
     "text": [
      "Accuracy: 93.9%\n"
     ]
    }
   ],
   "source": [
    "score = accuracy_score(y_test,y_pred)\n",
    "print(f'Accuracy: {round(score*100,2)}%')"
   ]
  },
  {
   "cell_type": "code",
   "execution_count": 10,
   "id": "dbb5c45f",
   "metadata": {},
   "outputs": [
    {
     "data": {
      "text/plain": [
       "array([[914,  54],\n",
       "       [ 62, 871]])"
      ]
     },
     "execution_count": 10,
     "metadata": {},
     "output_type": "execute_result"
    }
   ],
   "source": [
    "#Build confusion matrix to gain insight into the number of false and true negatives and positives.\n",
    "confusion_matrix(y_test,y_pred, labels=['FAKE','REAL'])"
   ]
  },
  {
   "cell_type": "code",
   "execution_count": 25,
   "id": "cdf325d9",
   "metadata": {},
   "outputs": [],
   "source": [
    "real_text = [\"\"\"\"Just weeks ago, Rishi Sunak was a leading contender to be Britain’s next prime minister. That prospect is receding rapidly.\n",
    "\n",
    "His fall has been remarkable, criticized for raising taxes during a spiraling cost-of-living crisis, while appearing out of touch as a millionaire Chancellor of the Exchequer immune to plummeting living standards. Sunak has never been more unpopular with voters, according to pollster YouGov.\n",
    "\n",
    "With his fortunes already flagging, Sunak was hit this week by the politically seismic revelation that his wife, Akshata Murthy, exploits a tax loophole that means she doesn’t pay U.K. taxes on her foreign earnings -- potentially saving millions of pounds of payments to the Treasury.\n",
    "\n",
    "What’s a ‘Non-Dom’ and Why Are U.K. Politics Abuzz?: QuickTake\n",
    "\n",
    "Though there is no suggestion laws were broken, one Conservative Member of Parliament called Murthy’s tax status a disgrace and another said it would be toxic with voters for the ruling party. Opposition Labour Party leader Keir Starmer said it would be “breathtaking hypocrisy” if Murthy had reduced her own liability while Sunak was raising taxes on Britons.\n",
    "\n",
    "Sunak’s immediate chance of becoming prime minister “has pretty much evaporated,” said Helen Thomas, a former advisor to ex-Chancellor George Osborne and CEO of BlondeMoney, a macroeconomic consultancy. “He’ll get another crack at it, but it may not be for years to come.”\n",
    "\n",
    "Pandemic Popularity\n",
    "Events are now far removed from the height of Sunak’s popularity during the pandemic, when the chancellor became a national figure almost overnight by unleashing billions of pounds of emergency spending to prop up the economy. \n",
    "\n",
    "A slick PR operation, polished performances in Parliament and popular policies -- including an “Eat Out to Help Out” program subsidizing restaurant diners after the first coronavirus lockdown was lifted -- quickly propelled him to be the front-runner to succeed British premier Boris Johnson.\n",
    "\n",
    "\n",
    "But Sunak has struggled to maintain the positive vibe since switching off the U.K.’s free-spending response to the pandemic. \n",
    "\n",
    "He told the Conservative Party spring conference he didn’t want to “burden future generations with further debt” and he has repeatedly said that he won’t be able to protect everyone from the full brunt of the cost-of-living crisis.\n",
    "\n",
    "It’s a stance that appeals to Tory fiscal conservatives but also led to a wider backlash to his mini-budget last month, when he increased a levy to fund health care and rejected calls to boost welfare payments.\n",
    "\n",
    "Out of Touch\n",
    "For the first time in his political career Sunak is under siege, unable to shrug off a perception that he doesn’t understand the plight of ordinary Britons squeezed by surging fuel and food costs.\n",
    "\n",
    "His assertion of being a low-tax Conservative in the mold of former Prime Minister Margaret Thatcher also don’t stack up against his actions: he’s put the country on track to its highest tax burden since the 1950s.\n",
    "\n",
    "Putting his personal branding on Treasury decisions, a strategy that worked during the pandemic, now means he’s linked in the public conscious to inflation and a record squeeze on living standards.\n",
    "\n",
    "Tax and Spend\n",
    "The U.K. is facing the highest tax burden since Attlee was prime minister\n",
    "\n",
    "\n",
    "Source: Office for Budget Responsibility\n",
    "\n",
    "His personal wealth -- and that of his family -- is also not helping. The U.K. has a long tradition of photographing chancellors preparing for key speeches, but in Sunak’s case they include glimpses into a luxury lifestyle, like a coffee cup in 2020 worth 180 pounds.\n",
    "\n",
    "Family Ties\n",
    "Against protestations from Sunak -- and Johnson -- that families of politicians should be kept out of scrutiny, the focus is now on Murthy, the daughter of an Indian billionaire, Infosys Ltd. co-founder Narayana Murthy. \n",
    "\n",
    "Sunak’s Wealthy Wife Exploits Tax Break to Cut U.K. Payments\n",
    "\n",
    "She owns 0.93% of Infosys’s shares, according to Bloomberg data, valued at almost $1 billion at current prices. On Wednesday, the Independent newspaper revealed she holds non-domiciled status in the U.K., a revelation later confirmed by her spokesperson.\n",
    "\n",
    "\n",
    "The question now is just how bad Sunak will be damaged by the reports. On Thursday, allies in the Tory party predicted his standing wouldn’t be affected and that his fiscal prudence remains popular. There’s a view that his wife’s tax status is not something that should reflect on Sunak.\n",
    "\n",
    "Two MPs pointed out that Sunak’s struggles have coincided with a reversal in Johnson’s own fortunes, and accused the prime minister’s staff of briefing against a would-be rival. A Downing Street spokesperson denied the accusation.\n",
    "\n",
    "‘Partygate’\n",
    "It is only weeks since Johnson himself was battling for political survival over allegations of rule-breaking parties in Downing Street during the pandemic, which fueled speculation about a leadership challenge. While the police have started issuing fines, Russia’s invasion of Ukraine has taken much of the sting out of “partygate.” \n",
    "\n",
    "Instead, there’s growing speculation among Tory MPs that an emboldened Johnson may remove Sunak from his post in a future Cabinet shakeup, with one suggesting Foreign Secretary Liz Truss -- who has expressed her desire to be chancellor in the past -- taking the role.\n",
    "\n",
    "To be sure, some Tories said Sunak is still well liked and seen as a competent chancellor with a good personal touch with MPs. Also in his favor is the relative dearth of big hitters to one day replace Johnson, giving Sunak time to rebuild his public standing, they said.\n",
    "\n",
    "British politics is also littered with politicians who have resurrected their careers, not least Johnson, who was widely seen to have lost his shot at Number 10 when his fellow Brexit campaigner Michael Gove derailed his leadership challenge in 2016.\n",
    "\n",
    "Yet any politician seeking to be prime minister needs a strong base of public support to be a credible contender -- something that has slipped away from Sunak. On Wednesday, a YouGov poll gave him a popularity score of minus 29, with 57% of respondents having an unfavorable opinion of him compared with just 28% who see him in a positive light.\n",
    "\n",
    "“He’s seen as having had a tin ear to the impact of the cost-of-living crisis, and his own personal wealth and his wife’s wealth then grates even more with people,” said Bronwen Maddox, director of the Institute for Government think tank. “It’s hard for him to come back while the cost-of-living crisis is biting.” \n",
    "\n",
    "— With assistance by Alex Morales, Emily Ashton, and Andrew Atkinson\n",
    "\n",
    "\"\"\"]\n",
    "\n",
    "tfid_new_test = tfidf_vectorizer.transform(real_text)"
   ]
  },
  {
   "cell_type": "code",
   "execution_count": 26,
   "id": "225069fb",
   "metadata": {},
   "outputs": [
    {
     "data": {
      "text/plain": [
       "array(['REAL'], dtype='<U4')"
      ]
     },
     "execution_count": 26,
     "metadata": {},
     "output_type": "execute_result"
    }
   ],
   "source": [
    "new_pred = pac.predict(tfid_new_test)\n",
    "new_pred"
   ]
  },
  {
   "cell_type": "code",
   "execution_count": 27,
   "id": "f97b88c0",
   "metadata": {},
   "outputs": [],
   "source": [
    "fake_text = [\"\"\"Los Angeles | Yoko Ono shocked reporters yesterday when she responded to a question concerning the presidential run of Hillary Clinton and the possibility that she could become the first woman President of the United States in American history.\n",
    "The artist and widow of John Lennon, who is in Los Angeles to present a collection of cups and saucers she is exhibiting at the Museum of Modern Art, totally took reporters by surprise by admitting she had not only met the former First Lady at various times during a series of protests against the Vietnam War in New York in the 1970s but also knew her “intimately”.\n",
    "\n",
    "The celebrity admitted laughingly to having “a fling” with her at the time and acknowledged her election “would be a great advancement for LGBT and Women rights in America” she added.\n",
    "\n",
    "Yoko Ono shocked reporters when she admitted to \"having a fling\" with the former Secretary of State after they met during a protest against the Vietnam War in New York in the early 1970s\n",
    "Hillary Clinton has been hit by a series of allegations of being a lesbian in her career which may have ruined her bid for the presidency, believe some experts\n",
    "\n",
    "Yoko Ono when asked about her thoughts about Hillary’s run for the presidency completely took reporters by surprise.\n",
    "\n",
    "“We met many times during the New York Vietnam War protests in the 1970s and became very intimate,” she told reporters.\n",
    "“We shared many of the same values about sexual equality, fighting against the authoritarian, patriarchal, male-dominated society we were raised in” she explained.\n",
    "\n",
    "“We had a brief romantic fling when I lived with John in Manhattan and Hillary was studying at Yale, but eventually we lost touch” she added.\n",
    "“I am amazed how things are going well for her and wish her the best,” she said during the press conference.\n",
    "\n",
    "Some conservative experts believe the statement could affect the presidential candidate’s bid for the 2020 presidency but previous allegations of Hillary Clinton’s lesbian past, which have resurfaced a number of times in the past two decades, have not seemed to have had a major impact in Hillary’s political career to date, admit others.\"\"\"]"
   ]
  },
  {
   "cell_type": "code",
   "execution_count": 28,
   "id": "34bba98f",
   "metadata": {},
   "outputs": [],
   "source": [
    "tfid_new_test_2 = tfidf_vectorizer.transform(fake_text)"
   ]
  },
  {
   "cell_type": "code",
   "execution_count": 29,
   "id": "616962d4",
   "metadata": {},
   "outputs": [
    {
     "data": {
      "text/plain": [
       "array(['FAKE'], dtype='<U4')"
      ]
     },
     "execution_count": 29,
     "metadata": {},
     "output_type": "execute_result"
    }
   ],
   "source": [
    "new_pred_2 = pac.predict(tfid_new_test_2)\n",
    "new_pred_2"
   ]
  },
  {
   "cell_type": "code",
   "execution_count": null,
   "id": "b667c024",
   "metadata": {},
   "outputs": [],
   "source": []
  },
  {
   "cell_type": "code",
   "execution_count": null,
   "id": "ad75001a",
   "metadata": {},
   "outputs": [],
   "source": []
  }
 ],
 "metadata": {
  "kernelspec": {
   "display_name": "Python 3 (ipykernel)",
   "language": "python",
   "name": "python3"
  },
  "language_info": {
   "codemirror_mode": {
    "name": "ipython",
    "version": 3
   },
   "file_extension": ".py",
   "mimetype": "text/x-python",
   "name": "python",
   "nbconvert_exporter": "python",
   "pygments_lexer": "ipython3",
   "version": "3.8.12"
  },
  "toc": {
   "base_numbering": 1,
   "nav_menu": {},
   "number_sections": true,
   "sideBar": true,
   "skip_h1_title": false,
   "title_cell": "Table of Contents",
   "title_sidebar": "Contents",
   "toc_cell": false,
   "toc_position": {},
   "toc_section_display": true,
   "toc_window_display": false
  }
 },
 "nbformat": 4,
 "nbformat_minor": 5
}
